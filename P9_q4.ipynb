{
 "cells": [
  {
   "cell_type": "markdown",
   "metadata": {},
   "source": [
    "# Question 4 du projet"
   ]
  },
  {
   "cell_type": "code",
   "execution_count": 27,
   "metadata": {},
   "outputs": [],
   "source": [
    "import numpy as np\n",
    "import pandas as pd\n",
    "import spacy\n",
    "import time\n",
    "import matplotlib.pyplot as plt\n",
    "import warnings\n",
    "from sklearn.multiclass import OneVsOneClassifier\n",
    "from sklearn.linear_model import LogisticRegression\n",
    "from sklearn.metrics import confusion_matrix\n",
    "from sklearn.metrics import classification_report\n",
    "from sklearn.metrics import roc_curve, auc\n",
    "warnings.filterwarnings('ignore')"
   ]
  },
  {
   "cell_type": "markdown",
   "metadata": {},
   "source": [
    "Nous n'avons pas réussi à utiliser les autres datasets cités dns l'énoncé. Ils ne s'ouvraient pas sur le Git.\n",
    "Nous avons donc cheché d'autres dataset. En premier lieu nous avons utilisé un dataset ressemblant à celui des questions précédantes (https://www.kaggle.com/alaakhaled/conll003-englishversion#test.txt) trouvé sur Kaggle. Cependant nous ne disposons pas de vecteurs pour les mots de ce dataset, mais seulement de leur entité. Il nous faut donc, après lecture et parsing du dataset, vectoriser ces mots. Nous utilisons ici l'outil Spacy (juste pour le Word Embedding, pas pour le NER). Puis nous appliquons notre régression logistique en one vs one pour ce dataset. Ensuite nous irons plus loin : on prend un texte quelconque, on trouve les entité et les embeddings avec Spacy et on applique notre régression. Nous l'appliquerons en One vs Rest sur les textes. "
   ]
  },
  {
   "cell_type": "markdown",
   "metadata": {},
   "source": [
    "## Préparation des données "
   ]
  },
  {
   "cell_type": "code",
   "execution_count": 17,
   "metadata": {},
   "outputs": [],
   "source": [
    "with open(r\"train.txt\", 'r') as f2:\n",
    "    data = f2.read()"
   ]
  },
  {
   "cell_type": "code",
   "execution_count": 18,
   "metadata": {},
   "outputs": [],
   "source": [
    "# Partie 1 : on recupère le contenu sous la forme d'un tableau [mot , label d'entité]\n",
    "\n",
    "def txt_to_ner(txt):\n",
    "    out = []\n",
    "    buff = []\n",
    "    for c in txt:\n",
    "        if c == '\\n':\n",
    "            out.append(''.join(buff))\n",
    "            buff = []\n",
    "        else:\n",
    "            buff.append(c)\n",
    "    else:\n",
    "        if buff:\n",
    "            out.append(''.join(buff))\n",
    "\n",
    "    lignes = out\n",
    "\n",
    "    tab=[]\n",
    "    for l in lignes:\n",
    "        if len(l)>5:\n",
    "            tab.append([l.split()[0],l.split()[-1]])\n",
    "\n",
    "    return np.array(tab)\n",
    "\n",
    "tab=txt_to_ner(data)"
   ]
  },
  {
   "cell_type": "code",
   "execution_count": 19,
   "metadata": {},
   "outputs": [
    {
     "name": "stdout",
     "output_type": "stream",
     "text": [
      "temps d'attente estimé :  78.5  secondes.\n"
     ]
    }
   ],
   "source": [
    "# partie 2 : vectoriser les mots avec spacy\n",
    "\n",
    "# on peut accelerer cette étape en ne prenant que la tokenization de spacy,\n",
    "# mais vu qu'on aura besoin des entity plus loin, autant faire tout le pipeline ici\n",
    "\n",
    "\n",
    "nlp = spacy.load(\"en_core_web_sm\")\n",
    "\n",
    "taille_train=10000\n",
    "print(\"temps d'attente estimé : \", taille_train*78.5/10000, \" secondes.\" )\n",
    "tab_token=np.array([[nlp(str(x[0])).vector,x[1]] for x in tab[1:taille_train]])   # on tokenize les mots\n",
    "\n",
    "# tab_token a pour taille (taille_train , 2)\n",
    "# à chaque ligne, le premier element est le vecteur du mot et le 2eme est le label de l'entité\n",
    "\n",
    "X_train=np.array([x[0] for x in tab_token])\n",
    "Y_train_ent=np.array([[x[1]] for x in tab_token])"
   ]
  },
  {
   "cell_type": "code",
   "execution_count": 20,
   "metadata": {},
   "outputs": [],
   "source": [
    "# derniere etape avant le train : changer les label en numéro de classe\n",
    "# on a : \"I-LOC\", \"B-ORG\",\"O\",\"B-PER\",\"I-PER\",\"I-MISC\",\"B-MISC\",\"I-ORG\",\"B-LOC\" comme entités possibles\n",
    "\n",
    "l=[\"I-LOC\", \"B-ORG\",\"O\",\"B-PER\",\"I-PER\",\"I-MISC\",\"B-MISC\",\"I-ORG\",\"B-LOC\"]\n",
    "\n",
    "def modif_df_3(df,entity):\n",
    "    # entity est une liste de label d'entités\n",
    "    dataframe=df\n",
    "    for k in range(len(dataframe)):\n",
    "        a=dataframe[k]\n",
    "        for ent in range(len(entity)):\n",
    "            if a==entity[ent]:\n",
    "                dataframe[k] = [ent]\n",
    "    return np.array(dataframe)\n",
    "\n",
    "Y_train=modif_df_3(Y_train_ent,l)"
   ]
  },
  {
   "cell_type": "code",
   "execution_count": 21,
   "metadata": {},
   "outputs": [
    {
     "name": "stdout",
     "output_type": "stream",
     "text": [
      "temps d'attente estimé :  7.85  secondes.\n"
     ]
    }
   ],
   "source": [
    "# on prépare l'échantillon de test \n",
    "with open(r\"test.txt\", 'r') as f3:\n",
    "    test = f3.read()\n",
    "\n",
    "tab_test=txt_to_ner(test)\n",
    "taille_test=1000\n",
    "print(\"temps d'attente estimé : \", taille_test*78.5/10000 , \" secondes.\")\n",
    "tab_token_test=np.array([[nlp(str(x[0])).vector,x[1]] for x in tab_test[1:taille_test]])\n",
    "\n",
    "X_test=np.array([x[0] for x in tab_token_test])\n",
    "Y_test_ent=np.array([[x[1]] for x in tab_token_test])\n",
    "\n",
    "Y_test=modif_df_3(Y_test_ent,l)"
   ]
  },
  {
   "cell_type": "markdown",
   "metadata": {},
   "source": [
    "## Entrainement "
   ]
  },
  {
   "cell_type": "code",
   "execution_count": 23,
   "metadata": {},
   "outputs": [],
   "source": [
    "clf=OneVsOneClassifier(LogisticRegression(random_state=0)).fit(X_train, Y_train)"
   ]
  },
  {
   "cell_type": "code",
   "execution_count": 43,
   "metadata": {},
   "outputs": [],
   "source": [
    "def print_confusion(matrice):\n",
    "    df=pd.DataFrame(matrice, columns = [\"I-LOC\", \"B-ORG\",\"O\",\"B-PER\",\"I-PER\",\"I-MISC\",\"B-MISC\",\"I-ORG\",\"B-LOC\"],\n",
    "                    index = [\"classe I-LOC\", \"classe B-ORG\",\"classe O\",\"classe B-PER\",\n",
    "                               \"classe I-PER\",\"classe I-MISC\",\"classe B-MISC\",\"classe I-ORG\",\"classe B-LOC\"])\n",
    "    print(df)"
   ]
  },
  {
   "cell_type": "code",
   "execution_count": 44,
   "metadata": {},
   "outputs": [],
   "source": [
    "Y_pred=clf.predict(X_test)"
   ]
  },
  {
   "cell_type": "code",
   "execution_count": 45,
   "metadata": {},
   "outputs": [
    {
     "name": "stdout",
     "output_type": "stream",
     "text": [
      "               I-LOC  B-ORG    O  B-PER  I-PER  I-MISC  B-MISC  I-ORG  B-LOC\n",
      "classe I-LOC       5      0    0      0      0       0       0      0      0\n",
      "classe B-ORG       0      0    0      0      0       0       0      0      2\n",
      "classe O           0      0  798      2      1       1       0      0      0\n",
      "classe B-PER       1     15    1     21     16       0       1      9      5\n",
      "classe I-PER       0     11    0     24     14       0       1      2      3\n",
      "classe I-MISC      0      0    0      0      1       6       1      0      0\n",
      "classe B-MISC      0      0    1      0      1       0      15      0      0\n",
      "classe I-ORG       0      0    0      0      0       0       0      1      0\n",
      "classe B-LOC       0      1    0      0      1       0       2      2     34\n"
     ]
    }
   ],
   "source": [
    "print_confusion(confusion_matrix(Y_test,Y_pred))"
   ]
  },
  {
   "cell_type": "markdown",
   "metadata": {},
   "source": [
    "Plusieurs aspects sont interressant à commenter dans cette matrice de confusion. Tout d'abord de manière globale, notre classification ne se trompe pas trop dans la prédiction d'entité à partir des vecteurs de Spacy. Cependant 26 personnes (I-Per ou B-Per) sont classées comme des organisation par notre regression logistique. Afin de pouvoir analyser avec plus de clarté les résultats nous allons utiliser une stratégie One vs Rest et appliquer la démarche ci-dessus sur un texte quelconque."
   ]
  },
  {
   "cell_type": "markdown",
   "metadata": {},
   "source": [
    "## Essai sur un texte"
   ]
  },
  {
   "cell_type": "markdown",
   "metadata": {},
   "source": [
    "Une faille de notre raisonnement est que pour nous créer un échantillon de train et de test, nous considérons le NER de Spacy comme étant parfait. Cependant, en comparaison à ce que l'on pourrait faire comme NER (voir notre question 2), cela n'est pas trop grave de le considerer comme parfait (ce n'est pas le cas)."
   ]
  },
  {
   "cell_type": "code",
   "execution_count": 111,
   "metadata": {},
   "outputs": [],
   "source": [
    "def txt_to_exploitable(data):\n",
    "    texte=nlp(data)\n",
    "    X, Y =[], []\n",
    "    for token in texte:\n",
    "        X.append(token.vector)\n",
    "        if token.ent_type_=='PERSON':\n",
    "            Y.append(1)\n",
    "        else:\n",
    "            Y.append(0)\n",
    "    return np.array(X) , np.array(Y)"
   ]
  },
  {
   "cell_type": "markdown",
   "metadata": {},
   "source": [
    "### Echantillon d'entrainement :"
   ]
  },
  {
   "cell_type": "markdown",
   "metadata": {},
   "source": [
    "On prend un extrait d'article du New York Times pour l'entrainement. (https://www.nytimes.com/2016/06/30/nyregion/mayor-de-blasios-counsel-to-leave-next-month-to-lead-police-review-board.html) (il nous fallait de l'anglais pour ne pas avoir à télécharger d'autres package Spacy, et cet article était gratuità lire). "
   ]
  },
  {
   "cell_type": "code",
   "execution_count": 112,
   "metadata": {},
   "outputs": [],
   "source": [
    "with open(r\"ny_times.txt\", 'r') as f2:\n",
    "    data = f2.read()\n",
    "\n",
    "X_train, Y_train = txt_to_exploitable(data)"
   ]
  },
  {
   "cell_type": "code",
   "execution_count": 119,
   "metadata": {},
   "outputs": [
    {
     "name": "stdout",
     "output_type": "stream",
     "text": [
      "Cet article contient 56 noms propres.\n"
     ]
    }
   ],
   "source": [
    "print(\"Cet article contient\" , Y_train.sum(), \"noms propres.\")"
   ]
  },
  {
   "cell_type": "markdown",
   "metadata": {},
   "source": [
    "### Echantillon de test :"
   ]
  },
  {
   "cell_type": "markdown",
   "metadata": {},
   "source": [
    "#### TEST A : Oliver Twist "
   ]
  },
  {
   "cell_type": "code",
   "execution_count": 117,
   "metadata": {},
   "outputs": [],
   "source": [
    "with open(r\"oliver.txt\", 'r') as f2:\n",
    "    data = f2.read()\n",
    "    \n",
    "X_test_a, Y_test_a = txt_to_exploitable(data)"
   ]
  },
  {
   "cell_type": "code",
   "execution_count": 121,
   "metadata": {},
   "outputs": [
    {
     "name": "stdout",
     "output_type": "stream",
     "text": [
      "Cet extrait contient 10 noms propres.\n"
     ]
    }
   ],
   "source": [
    "print(\"Cet extrait contient\" , Y_test_a.sum(), \"noms propres.\")"
   ]
  },
  {
   "cell_type": "markdown",
   "metadata": {},
   "source": [
    "#### TEST B : article wikipedia sur le Brexit, un peu modifié."
   ]
  },
  {
   "cell_type": "code",
   "execution_count": 128,
   "metadata": {},
   "outputs": [],
   "source": [
    "with open(r\"brexit.txt\", 'r') as f2:\n",
    "    data = f2.read()\n",
    "    \n",
    "X_test_b, Y_test_b = txt_to_exploitable(data)"
   ]
  },
  {
   "cell_type": "code",
   "execution_count": 129,
   "metadata": {},
   "outputs": [
    {
     "name": "stdout",
     "output_type": "stream",
     "text": [
      "Cet article contient 18 noms propres.\n"
     ]
    }
   ],
   "source": [
    "print(\"Cet article contient\" , Y_test_b.sum(), \"noms propres.\")"
   ]
  },
  {
   "cell_type": "markdown",
   "metadata": {},
   "source": [
    "## Resultats "
   ]
  },
  {
   "cell_type": "code",
   "execution_count": 130,
   "metadata": {},
   "outputs": [],
   "source": [
    "clf=LogisticRegression(random_state=0).fit(X_train,Y_train)"
   ]
  },
  {
   "cell_type": "code",
   "execution_count": 139,
   "metadata": {},
   "outputs": [],
   "source": [
    "def print_confusion(matrice):\n",
    "    df=pd.DataFrame(matrice, index = ['classe negative', 'classe positive'],\n",
    "                    columns = ['prédit negatif', 'prédit positif'])\n",
    "    print(df)"
   ]
  },
  {
   "cell_type": "code",
   "execution_count": 140,
   "metadata": {},
   "outputs": [
    {
     "name": "stdout",
     "output_type": "stream",
     "text": [
      "Matrice de confusion test A : \n",
      "\n",
      "                 prédit negatif  prédit positif\n",
      "classe negative             449               0\n",
      "classe positive               4               6\n",
      "None\n",
      "Matrice de confusion test B : \n",
      "\n",
      "                 prédit negatif  prédit positif\n",
      "classe negative             591               4\n",
      "classe positive               9               9\n",
      "None\n"
     ]
    }
   ],
   "source": [
    "Y_pred_a=clf.predict(X_test_a)\n",
    "Y_pred_b=clf.predict(X_test_b)\n",
    "\n",
    "print(\"Matrice de confusion test A : \\n\")\n",
    "print(print_confusion(confusion_matrix(Y_test_a,Y_pred_a)))\n",
    "print(\"Matrice de confusion test B : \\n\")\n",
    "print(print_confusion(confusion_matrix(Y_test_b,Y_pred_b)))"
   ]
  },
  {
   "cell_type": "code",
   "execution_count": 142,
   "metadata": {},
   "outputs": [
    {
     "name": "stdout",
     "output_type": "stream",
     "text": [
      "precision     0.692308\n",
      "recall        0.500000\n",
      "f1-score      0.580645\n",
      "support      18.000000\n",
      "accuracy      0.978793\n",
      "Name: classe 1, dtype: float64\n"
     ]
    }
   ],
   "source": [
    "report=classification_report(Y_test_b,Y_pred_b,output_dict=True,target_names=['classe 0', 'classe 1'])\n",
    "acc=clf.score(X_test_b,Y_test_b)\n",
    "df=pd.DataFrame(report)['classe 1']\n",
    "df['accuracy']=acc\n",
    "print(df)"
   ]
  },
  {
   "cell_type": "markdown",
   "metadata": {},
   "source": [
    "Les performances ne sont pas très satisfaisantes (EXPLICATIONS ???). On peut en conclure qu'après l'étape de Word Embedding, le NER ne consiste pas en une simple régression. Nous tenterons de construire notre NER en question 2 ci-après et verrons les difficultés rencontrées.\n",
    "On remarque bien ici que l'accuracy n'est pas très significative dans ce type de problème."
   ]
  },
  {
   "cell_type": "markdown",
   "metadata": {},
   "source": [
    "### Courbe ROC"
   ]
  },
  {
   "cell_type": "code",
   "execution_count": 147,
   "metadata": {},
   "outputs": [],
   "source": [
    "Y_score_b =clf.decision_function(X_test_b)"
   ]
  },
  {
   "cell_type": "code",
   "execution_count": 148,
   "metadata": {},
   "outputs": [],
   "source": [
    "fpr, tpr, _ = roc_curve(Y_test_b, Y_score_b)\n",
    "roc_auc = auc(fpr, tpr)"
   ]
  },
  {
   "cell_type": "code",
   "execution_count": 149,
   "metadata": {},
   "outputs": [
    {
     "data": {
      "image/png": "[encoded data removed]",
      "text/plain": [
       "<Figure size 432x288 with 1 Axes>"
      ]
     },
     "metadata": {
      "needs_background": "light"
     },
     "output_type": "display_data"
    }
   ],
   "source": [
    "plt.figure()\n",
    "plt.plot(fpr, tpr, color='red', label='aire sous la courbe = %0.2f' % roc_auc)\n",
    "plt.plot([0, 1], [0, 1], color='navy', linestyle='--')\n",
    "plt.xlim([-0.05, 1.05])\n",
    "plt.ylim([-0.05, 1.05])\n",
    "plt.xlabel('Taux de fausse alarme')\n",
    "plt.ylabel('Taux de detection')\n",
    "plt.title('Courbe ROC test B')\n",
    "plt.legend(loc=\"lower right\")\n",
    "plt.show()"
   ]
  },
  {
   "cell_type": "markdown",
   "metadata": {},
   "source": [
    "On remarque que la courbe est moins bonne que celle obtenue en question 1 sans être catastrophique. De même l'aire sous la courbe reste assez élevée mais loin de la très bonne valeur obtenue à la question 1."
   ]
  }
 ],
 "metadata": {
  "kernelspec": {
   "display_name": "Python 3",
   "language": "python",
   "name": "python3"
  },
  "language_info": {
   "codemirror_mode": {
    "name": "ipython",
    "version": 3
   },
   "file_extension": ".py",
   "mimetype": "text/x-python",
   "name": "python",
   "nbconvert_exporter": "python",
   "pygments_lexer": "ipython3",
   "version": "3.7.6"
  }
 },
 "nbformat": 4,
 "nbformat_minor": 4
}
